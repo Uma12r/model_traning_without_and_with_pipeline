{
 "cells": [
  {
   "cell_type": "code",
   "execution_count": 1,
   "id": "51d6dbd2-d8d0-420b-84ed-f8c92dea9089",
   "metadata": {},
   "outputs": [],
   "source": [
    "import pickle"
   ]
  },
  {
   "cell_type": "code",
   "execution_count": 5,
   "id": "18cd10fa-6818-4b1f-9b83-f47213ea6e42",
   "metadata": {},
   "outputs": [],
   "source": [
    "pipe=pickle.load(open(\"pipe.pkl\",\"rb\"))"
   ]
  },
  {
   "cell_type": "code",
   "execution_count": 4,
   "id": "32c37ff4-3725-451c-9050-b84faa6d9c84",
   "metadata": {},
   "outputs": [],
   "source": [
    "import numpy as np"
   ]
  },
  {
   "cell_type": "code",
   "execution_count": 8,
   "id": "b9f04f4e-dcfb-44c3-bd9f-c801f2e556a2",
   "metadata": {},
   "outputs": [],
   "source": [
    "new_input=np.array([1,\"male\",24,0,0,400,\"Q\"],dtype=object).reshape(1,7)"
   ]
  },
  {
   "cell_type": "code",
   "execution_count": 10,
   "id": "9a7e0e09-dc61-4a41-a88f-fa825835cdaa",
   "metadata": {},
   "outputs": [
    {
     "name": "stderr",
     "output_type": "stream",
     "text": [
      "D:\\jupyterlab\\Lib\\site-packages\\sklearn\\utils\\validation.py:2739: UserWarning: X does not have valid feature names, but OneHotEncoder was fitted with feature names\n",
      "  warnings.warn(\n"
     ]
    }
   ],
   "source": [
    "survived=pipe.predict(new_input)"
   ]
  },
  {
   "cell_type": "code",
   "execution_count": 11,
   "id": "ae17456a-5887-4d02-81b5-e5df118ceb97",
   "metadata": {},
   "outputs": [
    {
     "name": "stdout",
     "output_type": "stream",
     "text": [
      "passenger is survived\n"
     ]
    }
   ],
   "source": [
    "if survived==0:\n",
    "    print(\"sorry! passenger is died\")\n",
    "else:\n",
    "    print(\"passenger is survived\")"
   ]
  },
  {
   "cell_type": "code",
   "execution_count": null,
   "id": "6255d395-e701-4c3f-8b73-b30a53d14335",
   "metadata": {},
   "outputs": [],
   "source": []
  }
 ],
 "metadata": {
  "kernelspec": {
   "display_name": "Python 3 (ipykernel)",
   "language": "python",
   "name": "python3"
  },
  "language_info": {
   "codemirror_mode": {
    "name": "ipython",
    "version": 3
   },
   "file_extension": ".py",
   "mimetype": "text/x-python",
   "name": "python",
   "nbconvert_exporter": "python",
   "pygments_lexer": "ipython3",
   "version": "3.13.5"
  }
 },
 "nbformat": 4,
 "nbformat_minor": 5
}
