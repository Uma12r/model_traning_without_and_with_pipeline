{
 "cells": [
  {
   "cell_type": "code",
   "execution_count": 25,
   "id": "14b261c4-e956-497a-9a50-f028a4670b17",
   "metadata": {},
   "outputs": [],
   "source": [
    "import pickle \n",
    "import numpy as np"
   ]
  },
  {
   "cell_type": "code",
   "execution_count": 26,
   "id": "b6972596-2c4f-4fe8-bd42-eed04e268106",
   "metadata": {},
   "outputs": [],
   "source": [
    "ohe_sex_embarked=pickle.load(open(\"ohe_sex_embarked.pkl\",\"rb\"))\n",
    "clf=pickle.load(open(\"clf.pkl\",\"rb\"))"
   ]
  },
  {
   "cell_type": "code",
   "execution_count": 27,
   "id": "c70f7687-e385-4495-a7ee-a6eaa489010a",
   "metadata": {},
   "outputs": [],
   "source": [
    "new_input=np.array([1,\"male\",35,2,4,300,\"S\"],dtype=object).reshape(1,7)"
   ]
  },
  {
   "cell_type": "code",
   "execution_count": 28,
   "id": "03a7c575-a70b-4c0b-8152-776078a4326c",
   "metadata": {},
   "outputs": [
    {
     "name": "stderr",
     "output_type": "stream",
     "text": [
      "D:\\jupyterlab\\Lib\\site-packages\\sklearn\\utils\\validation.py:2739: UserWarning: X does not have valid feature names, but OneHotEncoder was fitted with feature names\n",
      "  warnings.warn(\n"
     ]
    }
   ],
   "source": [
    "test_input_sex_embarked=ohe_sex_embarked.transform(new_input[:,[1,-1]].reshape(1,2))"
   ]
  },
  {
   "cell_type": "code",
   "execution_count": 29,
   "id": "65b777f6-e76d-45dc-8fdf-d07d1f613197",
   "metadata": {},
   "outputs": [
    {
     "data": {
      "text/plain": [
       "array([[0., 1., 0., 0., 1.]])"
      ]
     },
     "execution_count": 29,
     "metadata": {},
     "output_type": "execute_result"
    }
   ],
   "source": [
    "test_input_sex_embarked"
   ]
  },
  {
   "cell_type": "code",
   "execution_count": 30,
   "id": "d42f3caa-2908-4a7c-963c-bf39c51e65d0",
   "metadata": {},
   "outputs": [],
   "source": [
    "test_input_age=new_input[:,2].reshape(1,1)"
   ]
  },
  {
   "cell_type": "code",
   "execution_count": 31,
   "id": "bb78ff1a-caab-456c-8412-a5f7b9f43e34",
   "metadata": {},
   "outputs": [
    {
     "data": {
      "text/plain": [
       "array([[35]], dtype=object)"
      ]
     },
     "execution_count": 31,
     "metadata": {},
     "output_type": "execute_result"
    }
   ],
   "source": [
    "test_input_age"
   ]
  },
  {
   "cell_type": "code",
   "execution_count": 32,
   "id": "e167de46-101c-457c-833a-6fd12d75c492",
   "metadata": {},
   "outputs": [],
   "source": [
    "new_input_transformed=np.concatenate((new_input[:,[0,3,4,5]],test_input_sex_embarked,test_input_age),axis=1)"
   ]
  },
  {
   "cell_type": "code",
   "execution_count": 33,
   "id": "bff56062-1e46-4b55-b32e-aab06ce4aad6",
   "metadata": {},
   "outputs": [
    {
     "data": {
      "text/plain": [
       "(1, 10)"
      ]
     },
     "execution_count": 33,
     "metadata": {},
     "output_type": "execute_result"
    }
   ],
   "source": [
    "new_input_transformed.shape"
   ]
  },
  {
   "cell_type": "code",
   "execution_count": 34,
   "id": "dc7666ff-b0a1-4495-ba72-4931d8744717",
   "metadata": {},
   "outputs": [
    {
     "data": {
      "text/plain": [
       "array([0])"
      ]
     },
     "execution_count": 34,
     "metadata": {},
     "output_type": "execute_result"
    }
   ],
   "source": [
    "clf.predict(new_input_transformed)"
   ]
  },
  {
   "cell_type": "code",
   "execution_count": 35,
   "id": "5d874869-5f0f-459e-ba1e-16ef5cf7fefd",
   "metadata": {},
   "outputs": [],
   "source": [
    "import pandas as pd"
   ]
  },
  {
   "cell_type": "code",
   "execution_count": 36,
   "id": "697188d3-dc90-45a5-bccd-8363c79fc264",
   "metadata": {},
   "outputs": [
    {
     "data": {
      "text/html": [
       "<div>\n",
       "<style scoped>\n",
       "    .dataframe tbody tr th:only-of-type {\n",
       "        vertical-align: middle;\n",
       "    }\n",
       "\n",
       "    .dataframe tbody tr th {\n",
       "        vertical-align: top;\n",
       "    }\n",
       "\n",
       "    .dataframe thead th {\n",
       "        text-align: right;\n",
       "    }\n",
       "</style>\n",
       "<table border=\"1\" class=\"dataframe\">\n",
       "  <thead>\n",
       "    <tr style=\"text-align: right;\">\n",
       "      <th></th>\n",
       "      <th>0</th>\n",
       "      <th>1</th>\n",
       "      <th>2</th>\n",
       "      <th>3</th>\n",
       "      <th>4</th>\n",
       "      <th>5</th>\n",
       "      <th>6</th>\n",
       "      <th>7</th>\n",
       "      <th>8</th>\n",
       "      <th>9</th>\n",
       "    </tr>\n",
       "  </thead>\n",
       "  <tbody>\n",
       "    <tr>\n",
       "      <th>0</th>\n",
       "      <td>1</td>\n",
       "      <td>2</td>\n",
       "      <td>4</td>\n",
       "      <td>300</td>\n",
       "      <td>0.0</td>\n",
       "      <td>1.0</td>\n",
       "      <td>0.0</td>\n",
       "      <td>0.0</td>\n",
       "      <td>1.0</td>\n",
       "      <td>35</td>\n",
       "    </tr>\n",
       "  </tbody>\n",
       "</table>\n",
       "</div>"
      ],
      "text/plain": [
       "   0  1  2    3    4    5    6    7    8   9\n",
       "0  1  2  4  300  0.0  1.0  0.0  0.0  1.0  35"
      ]
     },
     "execution_count": 36,
     "metadata": {},
     "output_type": "execute_result"
    }
   ],
   "source": [
    "pd.DataFrame(new_input_transformed)"
   ]
  },
  {
   "cell_type": "code",
   "execution_count": null,
   "id": "d6db55e1-cf69-466d-b677-f96c0e1990ba",
   "metadata": {},
   "outputs": [],
   "source": []
  },
  {
   "cell_type": "code",
   "execution_count": null,
   "id": "858551ac-803a-4bd3-a6b6-cc95f3dc0749",
   "metadata": {},
   "outputs": [],
   "source": []
  },
  {
   "cell_type": "code",
   "execution_count": null,
   "id": "a59b700b-d01d-4ee1-91a8-677be9e8002a",
   "metadata": {},
   "outputs": [],
   "source": []
  },
  {
   "cell_type": "code",
   "execution_count": null,
   "id": "0b51fe85-cea2-4c78-803a-dcf67da6e02f",
   "metadata": {},
   "outputs": [],
   "source": []
  },
  {
   "cell_type": "code",
   "execution_count": null,
   "id": "f1b3b75f-c0e3-4489-ac3d-8a18f4f84052",
   "metadata": {},
   "outputs": [],
   "source": []
  },
  {
   "cell_type": "code",
   "execution_count": null,
   "id": "755a3876-be27-4d74-a726-ad6305978735",
   "metadata": {},
   "outputs": [],
   "source": []
  },
  {
   "cell_type": "code",
   "execution_count": null,
   "id": "6f6475a4-d2c1-4fcb-9811-bbe4bbe4e56c",
   "metadata": {},
   "outputs": [],
   "source": []
  },
  {
   "cell_type": "code",
   "execution_count": null,
   "id": "169ee98d-9b8f-4f53-adb7-e7a7c5695dc9",
   "metadata": {},
   "outputs": [],
   "source": []
  },
  {
   "cell_type": "code",
   "execution_count": null,
   "id": "0490515b-4997-4966-96a8-f7e06f46c456",
   "metadata": {},
   "outputs": [],
   "source": []
  },
  {
   "cell_type": "code",
   "execution_count": null,
   "id": "4283c007-de28-4a36-b16d-07c910d00d4d",
   "metadata": {},
   "outputs": [],
   "source": []
  },
  {
   "cell_type": "code",
   "execution_count": null,
   "id": "7bd585cd-9e72-45bb-b917-526b0c6d894a",
   "metadata": {},
   "outputs": [],
   "source": []
  },
  {
   "cell_type": "code",
   "execution_count": null,
   "id": "ecf43b10-ad2f-4623-9918-1bd0e805fc7c",
   "metadata": {},
   "outputs": [],
   "source": []
  },
  {
   "cell_type": "code",
   "execution_count": null,
   "id": "d381e2a0-3fe8-4a01-b6f8-fb8c423b7adc",
   "metadata": {},
   "outputs": [],
   "source": []
  }
 ],
 "metadata": {
  "kernelspec": {
   "display_name": "Python 3 (ipykernel)",
   "language": "python",
   "name": "python3"
  },
  "language_info": {
   "codemirror_mode": {
    "name": "ipython",
    "version": 3
   },
   "file_extension": ".py",
   "mimetype": "text/x-python",
   "name": "python",
   "nbconvert_exporter": "python",
   "pygments_lexer": "ipython3",
   "version": "3.13.5"
  }
 },
 "nbformat": 4,
 "nbformat_minor": 5
}
